{
 "cells": [
  {
   "cell_type": "code",
   "execution_count": 256,
   "id": "f23e78a7",
   "metadata": {},
   "outputs": [],
   "source": [
    "import pickle\n",
    "import tensorflow\n",
    "import numpy as np\n",
    "from numpy.linalg import norm\n",
    "from tensorflow.keras.preprocessing import image\n",
    "from tensorflow.keras.layers import GlobalMaxPooling2D\n",
    "from tensorflow.keras.applications.resnet50 import ResNet50,preprocess_input\n",
    "from sklearn.neighbors import NearestNeighbors\n",
    "import cv2\n",
    "import pandas as pd \n",
    "\n",
    "from urllib.request import urlopen,urlretrieve\n",
    "import imutils\n",
    "\n",
    "import os"
   ]
  },
  {
   "cell_type": "code",
   "execution_count": 224,
   "id": "5416651a",
   "metadata": {},
   "outputs": [],
   "source": [
    "# High Resoultion images\n",
    "\n",
    "feature_list = np.array(pickle.load(open('embeddings_highRES.pkl','rb')))\n",
    "filenames = pickle.load(open('filenames_highRES.pkl','rb'))"
   ]
  },
  {
   "cell_type": "code",
   "execution_count": 225,
   "id": "0648c7e8",
   "metadata": {},
   "outputs": [],
   "source": [
    "# low Resoultion images\n",
    "\n",
    "# feature_list = np.array(pickle.load(open('embeddings.pkl','rb')))\n",
    "# filenames = pickle.load(open('filenames.pkl','rb'))"
   ]
  },
  {
   "cell_type": "code",
   "execution_count": 226,
   "id": "9583ba28",
   "metadata": {},
   "outputs": [],
   "source": [
    "model = ResNet50(weights='imagenet',include_top=False,input_shape=(224,224,3))\n",
    "model.trainable = False"
   ]
  },
  {
   "cell_type": "code",
   "execution_count": 227,
   "id": "3da8e951",
   "metadata": {},
   "outputs": [],
   "source": [
    "model = tensorflow.keras.Sequential([\n",
    "    model,\n",
    "    GlobalMaxPooling2D()\n",
    "])"
   ]
  },
  {
   "cell_type": "code",
   "execution_count": 334,
   "id": "fb360729",
   "metadata": {},
   "outputs": [],
   "source": [
    "img_url = \"https://upload.wikimedia.org/wikipedia/commons/8/89/Capri_Pants_front_view.jpg\""
   ]
  },
  {
   "cell_type": "code",
   "execution_count": 335,
   "id": "f547d265",
   "metadata": {},
   "outputs": [
    {
     "data": {
      "text/plain": [
       "'C:\\\\Users\\\\91798\\\\AppData\\\\Local\\\\Temp\\\\tmpb7h6u5t3'"
      ]
     },
     "execution_count": 335,
     "metadata": {},
     "output_type": "execute_result"
    }
   ],
   "source": [
    "img_link = urlretrieve(img_url)[0] # this image store in below location but this line of code read only .JPG images\n",
    "img_link"
   ]
  },
  {
   "cell_type": "code",
   "execution_count": 336,
   "id": "9d241bf0",
   "metadata": {},
   "outputs": [],
   "source": [
    "img = image.load_img(img_link,target_size=(224,224))\n",
    "img_array = image.img_to_array(img)\n",
    "expanded_img_array = np.expand_dims(img_array, axis=0)\n",
    "preprocessed_img = preprocess_input(expanded_img_array)\n",
    "result = model.predict(preprocessed_img).flatten()\n",
    "normalized_result = result / norm(result)"
   ]
  },
  {
   "cell_type": "code",
   "execution_count": 337,
   "id": "c82ad31d",
   "metadata": {},
   "outputs": [
    {
     "data": {
      "text/plain": [
       "NearestNeighbors(algorithm='brute', metric='euclidean')"
      ]
     },
     "execution_count": 337,
     "metadata": {},
     "output_type": "execute_result"
    }
   ],
   "source": [
    "neighbors = NearestNeighbors(n_neighbors=5,algorithm='brute',metric='euclidean')\n",
    "neighbors.fit(feature_list)"
   ]
  },
  {
   "cell_type": "code",
   "execution_count": 338,
   "id": "fdbc6d1b",
   "metadata": {},
   "outputs": [],
   "source": [
    "distances,indices = neighbors.kneighbors([normalized_result])"
   ]
  },
  {
   "cell_type": "code",
   "execution_count": 339,
   "id": "6767a24a",
   "metadata": {},
   "outputs": [
    {
     "name": "stdout",
     "output_type": "stream",
     "text": [
      "[[29679 29647  1367  5692 40086]]\n"
     ]
    }
   ],
   "source": [
    "print(indices) # our predicted image IDs"
   ]
  },
  {
   "cell_type": "code",
   "execution_count": 403,
   "id": "89ca0c4b",
   "metadata": {},
   "outputs": [],
   "source": [
    "recomand_jpg = []\n",
    "for i in indices[0]: \n",
    "    a = filenames[i]\n",
    "    a = a.replace('/content/fashion-dataset/images/','')\n",
    "    recomand_jpg.append(a)"
   ]
  },
  {
   "cell_type": "code",
   "execution_count": 404,
   "id": "c44acca9",
   "metadata": {},
   "outputs": [
    {
     "data": {
      "text/plain": [
       "['50669.jpg', '51394.jpg', '57085.jpg', '31231.jpg', '12671.jpg']"
      ]
     },
     "execution_count": 404,
     "metadata": {},
     "output_type": "execute_result"
    }
   ],
   "source": [
    "recomand_jpg"
   ]
  },
  {
   "cell_type": "code",
   "execution_count": 322,
   "id": "24ce4002",
   "metadata": {},
   "outputs": [
    {
     "data": {
      "text/html": [
       "<div>\n",
       "<style scoped>\n",
       "    .dataframe tbody tr th:only-of-type {\n",
       "        vertical-align: middle;\n",
       "    }\n",
       "\n",
       "    .dataframe tbody tr th {\n",
       "        vertical-align: top;\n",
       "    }\n",
       "\n",
       "    .dataframe thead th {\n",
       "        text-align: right;\n",
       "    }\n",
       "</style>\n",
       "<table border=\"1\" class=\"dataframe\">\n",
       "  <thead>\n",
       "    <tr style=\"text-align: right;\">\n",
       "      <th></th>\n",
       "      <th>filename</th>\n",
       "      <th>link</th>\n",
       "    </tr>\n",
       "  </thead>\n",
       "  <tbody>\n",
       "    <tr>\n",
       "      <th>0</th>\n",
       "      <td>15970.jpg</td>\n",
       "      <td>http://assets.myntassets.com/v1/images/style/p...</td>\n",
       "    </tr>\n",
       "    <tr>\n",
       "      <th>1</th>\n",
       "      <td>39386.jpg</td>\n",
       "      <td>http://assets.myntassets.com/v1/images/style/p...</td>\n",
       "    </tr>\n",
       "    <tr>\n",
       "      <th>2</th>\n",
       "      <td>59263.jpg</td>\n",
       "      <td>http://assets.myntassets.com/v1/images/style/p...</td>\n",
       "    </tr>\n",
       "    <tr>\n",
       "      <th>3</th>\n",
       "      <td>21379.jpg</td>\n",
       "      <td>http://assets.myntassets.com/v1/images/style/p...</td>\n",
       "    </tr>\n",
       "    <tr>\n",
       "      <th>4</th>\n",
       "      <td>53759.jpg</td>\n",
       "      <td>http://assets.myntassets.com/v1/images/style/p...</td>\n",
       "    </tr>\n",
       "    <tr>\n",
       "      <th>...</th>\n",
       "      <td>...</td>\n",
       "      <td>...</td>\n",
       "    </tr>\n",
       "    <tr>\n",
       "      <th>44441</th>\n",
       "      <td>17036.jpg</td>\n",
       "      <td>http://assets.myntassets.com/v1/images/style/p...</td>\n",
       "    </tr>\n",
       "    <tr>\n",
       "      <th>44442</th>\n",
       "      <td>6461.jpg</td>\n",
       "      <td>http://assets.myntassets.com/v1/images/style/p...</td>\n",
       "    </tr>\n",
       "    <tr>\n",
       "      <th>44443</th>\n",
       "      <td>18842.jpg</td>\n",
       "      <td>http://assets.myntassets.com/v1/images/style/p...</td>\n",
       "    </tr>\n",
       "    <tr>\n",
       "      <th>44444</th>\n",
       "      <td>46694.jpg</td>\n",
       "      <td>http://assets.myntassets.com/v1/images/style/p...</td>\n",
       "    </tr>\n",
       "    <tr>\n",
       "      <th>44445</th>\n",
       "      <td>51623.jpg</td>\n",
       "      <td>http://assets.myntassets.com/assets/images/516...</td>\n",
       "    </tr>\n",
       "  </tbody>\n",
       "</table>\n",
       "<p>44446 rows × 2 columns</p>\n",
       "</div>"
      ],
      "text/plain": [
       "        filename                                               link\n",
       "0      15970.jpg  http://assets.myntassets.com/v1/images/style/p...\n",
       "1      39386.jpg  http://assets.myntassets.com/v1/images/style/p...\n",
       "2      59263.jpg  http://assets.myntassets.com/v1/images/style/p...\n",
       "3      21379.jpg  http://assets.myntassets.com/v1/images/style/p...\n",
       "4      53759.jpg  http://assets.myntassets.com/v1/images/style/p...\n",
       "...          ...                                                ...\n",
       "44441  17036.jpg  http://assets.myntassets.com/v1/images/style/p...\n",
       "44442   6461.jpg  http://assets.myntassets.com/v1/images/style/p...\n",
       "44443  18842.jpg  http://assets.myntassets.com/v1/images/style/p...\n",
       "44444  46694.jpg  http://assets.myntassets.com/v1/images/style/p...\n",
       "44445  51623.jpg  http://assets.myntassets.com/assets/images/516...\n",
       "\n",
       "[44446 rows x 2 columns]"
      ]
     },
     "execution_count": 322,
     "metadata": {},
     "output_type": "execute_result"
    }
   ],
   "source": [
    "img_csv = pd.read_csv('images.csv')\n",
    "img_csv"
   ]
  },
  {
   "cell_type": "code",
   "execution_count": 405,
   "id": "620b55f0",
   "metadata": {},
   "outputs": [],
   "source": [
    "final_img = []\n",
    "for i in recomand_jpg:\n",
    "    a = img_csv[img_csv['filename'] == i]['link'].values[0]\n",
    "    final_img.append(a)"
   ]
  },
  {
   "cell_type": "code",
   "execution_count": 406,
   "id": "df7e4092",
   "metadata": {},
   "outputs": [
    {
     "data": {
      "text/plain": [
       "['http://assets.myntassets.com/v1/images/style/properties/3024d86ca01c50e8c3bf1890b9552eae_images.jpg',\n",
       " 'http://assets.myntassets.com/v1/images/style/properties/c3cb7c416bb1d880b0e1b57f36b6fd53_images.jpg',\n",
       " 'http://assets.myntassets.com/v1/images/style/properties/Elle-Women-Off-White---Orange-Floral-Print-Tulip-Skirt_79d11b62c2cbf86d94e6058a6fea3c81_images.jpg',\n",
       " 'http://assets.myntassets.com/v1/images/style/properties/Puma-Women-Black-Shorts_e0aa48a440adafbe0a307614bfb8e551_images.jpg',\n",
       " 'http://assets.myntassets.com/v1/images/style/properties/f5c08f2a59199c361b80b06ad9be1d88_images.jpg']"
      ]
     },
     "execution_count": 406,
     "metadata": {},
     "output_type": "execute_result"
    }
   ],
   "source": [
    "final_img"
   ]
  },
  {
   "cell_type": "code",
   "execution_count": 407,
   "id": "ad16d4a2",
   "metadata": {},
   "outputs": [],
   "source": [
    "def url_to_image(url, readFlag=cv2.IMREAD_COLOR):\n",
    "    # download the image, convert it to a NumPy array, and then read\n",
    "    # it into OpenCV format\n",
    "    resp = urlopen(url) \n",
    "    image = np.asarray(bytearray(resp.read()), dtype=\"uint8\")\n",
    "    image = cv2.imdecode(image, readFlag)\n",
    "\n",
    "    # return the image\n",
    "    return image"
   ]
  },
  {
   "cell_type": "code",
   "execution_count": 408,
   "id": "713348b4",
   "metadata": {},
   "outputs": [],
   "source": [
    "for i in final_img:\n",
    "    temp_img = imutils.url_to_image(i)\n",
    "    cv2.imshow('output',cv2.resize(temp_img,(512,512)))\n",
    "    cv2.waitKey(0)"
   ]
  },
  {
   "cell_type": "code",
   "execution_count": 351,
   "id": "3d0cd696",
   "metadata": {},
   "outputs": [],
   "source": [
    "os.remove(img_link) # delete img coz that downloded file "
   ]
  },
  {
   "cell_type": "code",
   "execution_count": null,
   "id": "b9509250",
   "metadata": {},
   "outputs": [],
   "source": []
  },
  {
   "cell_type": "code",
   "execution_count": null,
   "id": "6f2eb44f",
   "metadata": {},
   "outputs": [],
   "source": []
  }
 ],
 "metadata": {
  "kernelspec": {
   "display_name": "Python 3",
   "language": "python",
   "name": "python3"
  },
  "language_info": {
   "codemirror_mode": {
    "name": "ipython",
    "version": 3
   },
   "file_extension": ".py",
   "mimetype": "text/x-python",
   "name": "python",
   "nbconvert_exporter": "python",
   "pygments_lexer": "ipython3",
   "version": "3.8.8"
  },
  "toc": {
   "base_numbering": 1,
   "nav_menu": {},
   "number_sections": true,
   "sideBar": true,
   "skip_h1_title": false,
   "title_cell": "Table of Contents",
   "title_sidebar": "Contents",
   "toc_cell": false,
   "toc_position": {},
   "toc_section_display": true,
   "toc_window_display": false
  }
 },
 "nbformat": 4,
 "nbformat_minor": 5
}

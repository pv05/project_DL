{
  "cells": [
    {
      "cell_type": "code",
      "execution_count": null,
      "metadata": {
        "id": "0SzjEdQWY_cG"
      },
      "outputs": [],
      "source": [
        "!mkdir -p ~/.kaggle\n",
        "!cp kaggle.json ~/.kaggle/"
      ]
    },
    {
      "cell_type": "code",
      "execution_count": null,
      "metadata": {
        "colab": {
          "base_uri": "https://localhost:8080/"
        },
        "id": "A4Kfh44TZC6w",
        "outputId": "c670b377-5f1f-47aa-d48d-7dbbbe3dcb22"
      },
      "outputs": [
        {
          "name": "stdout",
          "output_type": "stream",
          "text": [
            "Warning: Your Kaggle API key is readable by other users on this system! To fix this, you can run 'chmod 600 /root/.kaggle/kaggle.json'\n",
            "Downloading bollywood-celeb-localized-face-dataset.zip to /content\n",
            " 76% 21.0M/27.6M [00:00<00:00, 27.8MB/s]\n",
            "100% 27.6M/27.6M [00:00<00:00, 35.5MB/s]\n"
          ]
        }
      ],
      "source": [
        "!kaggle datasets download -d sushilyadav1998/bollywood-celeb-localized-face-dataset"
      ]
    },
    {
      "cell_type": "code",
      "execution_count": null,
      "metadata": {
        "id": "siu64P5KZGs9"
      },
      "outputs": [],
      "source": [
        "#!pip install --upgrade tensorflow==2.3.1"
      ]
    },
    {
      "cell_type": "code",
      "execution_count": null,
      "metadata": {
        "id": "SF5SIzWJZefz"
      },
      "outputs": [],
      "source": [
        "# now unzip the code\n",
        "import zipfile\n",
        "zip_ref = zipfile.ZipFile(r'/content/bollywood-celeb-localized-face-dataset.zip','r')\n",
        "zip_ref.extractall('/content')\n",
        "zip_ref.close()"
      ]
    },
    {
      "cell_type": "code",
      "execution_count": null,
      "metadata": {
        "id": "g2loxo70cYzd"
      },
      "outputs": [],
      "source": [
        "#!pip install mtcnn==0.1.0\n",
        "#!pip install keras==2.4.3\n",
        "#!pip install keras-vggface==0.6\n",
        "#!pip install keras_applications==1.0.8"
      ]
    },
    {
      "cell_type": "code",
      "execution_count": null,
      "metadata": {
        "id": "AzG0bOtpcX8l"
      },
      "outputs": [],
      "source": [
        "import os \n",
        "import pickle"
      ]
    },
    {
      "cell_type": "code",
      "execution_count": null,
      "metadata": {
        "id": "ylo5xdYidAOO"
      },
      "outputs": [],
      "source": [
        "actors = []\n",
        "for i in range(3):\n",
        "  actors.extend(os.listdir(f'/content/Bollywood_celeb_face_localized/bollywood_celeb_faces_{i}'))"
      ]
    },
    {
      "cell_type": "code",
      "execution_count": null,
      "metadata": {
        "colab": {
          "base_uri": "https://localhost:8080/"
        },
        "id": "nwT8Zca-VOKB",
        "outputId": "70b4d5af-2709-48ea-9862-1f2f692140f4"
      },
      "outputs": [
        {
          "data": {
            "text/plain": [
              "100"
            ]
          },
          "execution_count": 8,
          "metadata": {},
          "output_type": "execute_result"
        }
      ],
      "source": [
        "len(actors)"
      ]
    },
    {
      "cell_type": "code",
      "execution_count": null,
      "metadata": {
        "id": "B2JLnVmZcil1"
      },
      "outputs": [],
      "source": [
        "filenames = []\n",
        "for i in range(3):\n",
        "  for actor in actors:\n",
        "    if actor in os.listdir(f'/content/Bollywood_celeb_face_localized/bollywood_celeb_faces_{i}'):\n",
        "      for file in os.listdir(os.path.join(f'/content/Bollywood_celeb_face_localized/bollywood_celeb_faces_{i}',actor)):\n",
        "        filenames.append(os.path.join(f'/content/Bollywood_celeb_face_localized/bollywood_celeb_faces_{i}',actor,file))"
      ]
    },
    {
      "cell_type": "code",
      "execution_count": null,
      "metadata": {
        "colab": {
          "base_uri": "https://localhost:8080/"
        },
        "id": "ppnuDlrYjkkc",
        "outputId": "f07bc6f7-811c-4225-86b6-7e2ba4f8345a"
      },
      "outputs": [
        {
          "data": {
            "text/plain": [
              "8664"
            ]
          },
          "execution_count": 67,
          "metadata": {},
          "output_type": "execute_result"
        }
      ],
      "source": [
        "len(filenames)"
      ]
    },
    {
      "cell_type": "code",
      "execution_count": null,
      "metadata": {
        "id": "47Bd22QUkV2j"
      },
      "outputs": [],
      "source": [
        "pickle.dump(filenames,open('actors_filenames.pkl','wb'))"
      ]
    },
    {
      "cell_type": "code",
      "execution_count": null,
      "metadata": {
        "id": "u0rv5LvdkV4r"
      },
      "outputs": [],
      "source": [
        "from keras_vggface.utils import preprocess_input\n",
        "from tensorflow.keras.preprocessing import image\n",
        "from keras_vggface.vggface import VGGFace \n",
        "import numpy as np\n",
        "import pandas as pd \n",
        "from tqdm import tqdm"
      ]
    },
    {
      "cell_type": "code",
      "execution_count": null,
      "metadata": {
        "id": "3bSoOz4ZkV7H"
      },
      "outputs": [],
      "source": [
        "filenames = pickle.load(open('actors_filenames.pkl','rb'))"
      ]
    },
    {
      "cell_type": "code",
      "execution_count": null,
      "metadata": {
        "colab": {
          "base_uri": "https://localhost:8080/"
        },
        "id": "iaDGfaJ4kV_k",
        "outputId": "01c61c25-c099-418d-b89b-cf4b1a2e3eb3"
      },
      "outputs": [
        {
          "name": "stdout",
          "output_type": "stream",
          "text": [
            "Downloading data from https://github.com/rcmalli/keras-vggface/releases/download/v2.0/rcmalli_vggface_tf_notop_resnet50.h5\n",
            "94699520/94694792 [==============================] - 1s 0us/step\n"
          ]
        }
      ],
      "source": [
        "model = VGGFace(model='resnet50',include_top=False,input_shape=(224,224,3),pooling='avg')"
      ]
    },
    {
      "cell_type": "code",
      "execution_count": null,
      "metadata": {
        "id": "tqWzfFYOlpXK"
      },
      "outputs": [],
      "source": [
        "model.summary()"
      ]
    },
    {
      "cell_type": "code",
      "execution_count": null,
      "metadata": {
        "id": "11RLd4RrmEPG"
      },
      "outputs": [],
      "source": [
        "def feature_extractor(img_path,model):\n",
        "  img = image.load_img(img_path,target_size=(224,244))\n",
        "  img_array = image.img_to_array(img)\n",
        "  expended_img = np.expand_dims(img_array,axis=0)\n",
        "  preprocess_img = preprocess_input(expended_img)\n",
        "\n",
        "  result = model.predict(preprocess_img).flatten()\n",
        "\n",
        "  return result"
      ]
    },
    {
      "cell_type": "code",
      "execution_count": null,
      "metadata": {
        "colab": {
          "base_uri": "https://localhost:8080/"
        },
        "id": "PWZn0BbDnMTd",
        "outputId": "fe6f09a2-3a7a-4b95-d84f-d3bf5111101f"
      },
      "outputs": [
        {
          "name": "stderr",
          "output_type": "stream",
          "text": [
            "\r  0%|          | 0/8664 [00:00<?, ?it/s]"
          ]
        },
        {
          "name": "stdout",
          "output_type": "stream",
          "text": [
            "WARNING:tensorflow:Model was constructed with shape (None, 224, 224, 3) for input Tensor(\"input_2:0\", shape=(None, 224, 224, 3), dtype=float32), but it was called on an input with incompatible shape (None, 224, 244, 3).\n"
          ]
        },
        {
          "name": "stderr",
          "output_type": "stream",
          "text": [
            "100%|██████████| 8664/8664 [44:50<00:00,  3.22it/s]\n"
          ]
        }
      ],
      "source": [
        "features = []\n",
        "for file in tqdm(filenames):\n",
        "  features.append(feature_extractor(file,model))"
      ]
    },
    {
      "cell_type": "code",
      "execution_count": null,
      "metadata": {
        "id": "3JYNvfaxn3ib"
      },
      "outputs": [],
      "source": [
        "pickle.dump(features,open('embedding_actors.pkl','wb'))"
      ]
    },
    {
      "cell_type": "code",
      "execution_count": null,
      "metadata": {
        "id": "cmHXx4nUofm-"
      },
      "outputs": [],
      "source": []
    }
  ],
  "metadata": {
    "colab": {
      "provenance": []
    },
    "kernelspec": {
      "display_name": "Python 3",
      "name": "python3"
    },
    "language_info": {
      "name": "python"
    }
  },
  "nbformat": 4,
  "nbformat_minor": 0
}
